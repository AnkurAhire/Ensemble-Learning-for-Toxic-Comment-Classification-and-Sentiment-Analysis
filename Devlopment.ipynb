{
 "cells": [
  {
   "cell_type": "code",
   "execution_count": 1,
   "id": "49717cd9-b457-484f-a147-8954608e7328",
   "metadata": {},
   "outputs": [],
   "source": [
    "import pandas as pd\n",
    "import numpy as np\n",
    "import string\n",
    "import re\n",
    "import torch\n",
    "import dill\n",
    "import warnings\n",
    "warnings.filterwarnings(\"ignore\")\n",
    "import fasttext\n",
    "import seaborn as sns\n",
    "import matplotlib.pyplot as plt\n",
    "from contractions import fix\n",
    "from nltk.stem import WordNetLemmatizer\n",
    "from sklearn.model_selection import train_test_split\n",
    "from sklearn.metrics import accuracy_score,classification_report,confusion_matrix,ConfusionMatrixDisplay,classification_report"
   ]
  },
  {
   "cell_type": "code",
   "execution_count": 2,
   "id": "9cbfb925-9523-476d-9819-458c7dfbd83f",
   "metadata": {},
   "outputs": [],
   "source": [
    "df=pd.read_csv(\"Toxic&Sentiment_Dataset.csv\")"
   ]
  },
  {
   "cell_type": "code",
   "execution_count": 3,
   "id": "b0b731e5-8fbd-43f5-99bf-ca10a2dfb291",
   "metadata": {
    "scrolled": true
   },
   "outputs": [
    {
     "data": {
      "text/html": [
       "<div>\n",
       "<style scoped>\n",
       "    .dataframe tbody tr th:only-of-type {\n",
       "        vertical-align: middle;\n",
       "    }\n",
       "\n",
       "    .dataframe tbody tr th {\n",
       "        vertical-align: top;\n",
       "    }\n",
       "\n",
       "    .dataframe thead th {\n",
       "        text-align: right;\n",
       "    }\n",
       "</style>\n",
       "<table border=\"1\" class=\"dataframe\">\n",
       "  <thead>\n",
       "    <tr style=\"text-align: right;\">\n",
       "      <th></th>\n",
       "      <th>comment_text</th>\n",
       "      <th>toxic</th>\n",
       "      <th>positive</th>\n",
       "      <th>negative</th>\n",
       "      <th>neutral</th>\n",
       "    </tr>\n",
       "  </thead>\n",
       "  <tbody>\n",
       "    <tr>\n",
       "      <th>0</th>\n",
       "      <td>COCKSUCKER BEFORE YOU PISS AROUND ON MY WORK</td>\n",
       "      <td>1</td>\n",
       "      <td>0</td>\n",
       "      <td>1</td>\n",
       "      <td>0</td>\n",
       "    </tr>\n",
       "    <tr>\n",
       "      <th>1</th>\n",
       "      <td>Hey... what is it..\\n@ | talk .\\nWhat is it......</td>\n",
       "      <td>1</td>\n",
       "      <td>0</td>\n",
       "      <td>1</td>\n",
       "      <td>0</td>\n",
       "    </tr>\n",
       "    <tr>\n",
       "      <th>2</th>\n",
       "      <td>Bye! \\n\\nDon't look, come or think of comming ...</td>\n",
       "      <td>1</td>\n",
       "      <td>0</td>\n",
       "      <td>1</td>\n",
       "      <td>0</td>\n",
       "    </tr>\n",
       "    <tr>\n",
       "      <th>3</th>\n",
       "      <td>FUCK YOUR FILTHY MOTHER IN THE ASS, DRY!</td>\n",
       "      <td>1</td>\n",
       "      <td>0</td>\n",
       "      <td>1</td>\n",
       "      <td>0</td>\n",
       "    </tr>\n",
       "    <tr>\n",
       "      <th>4</th>\n",
       "      <td>I'm Sorry \\n\\nI'm sorry I screwed around with ...</td>\n",
       "      <td>1</td>\n",
       "      <td>0</td>\n",
       "      <td>1</td>\n",
       "      <td>0</td>\n",
       "    </tr>\n",
       "    <tr>\n",
       "      <th>...</th>\n",
       "      <td>...</td>\n",
       "      <td>...</td>\n",
       "      <td>...</td>\n",
       "      <td>...</td>\n",
       "      <td>...</td>\n",
       "    </tr>\n",
       "    <tr>\n",
       "      <th>201076</th>\n",
       "      <td>you are shit</td>\n",
       "      <td>1</td>\n",
       "      <td>0</td>\n",
       "      <td>1</td>\n",
       "      <td>0</td>\n",
       "    </tr>\n",
       "    <tr>\n",
       "      <th>201077</th>\n",
       "      <td>you are full of shit</td>\n",
       "      <td>1</td>\n",
       "      <td>0</td>\n",
       "      <td>1</td>\n",
       "      <td>0</td>\n",
       "    </tr>\n",
       "    <tr>\n",
       "      <th>201078</th>\n",
       "      <td>you are full of crap</td>\n",
       "      <td>1</td>\n",
       "      <td>0</td>\n",
       "      <td>1</td>\n",
       "      <td>0</td>\n",
       "    </tr>\n",
       "    <tr>\n",
       "      <th>201079</th>\n",
       "      <td>you are mental</td>\n",
       "      <td>1</td>\n",
       "      <td>0</td>\n",
       "      <td>0</td>\n",
       "      <td>0</td>\n",
       "    </tr>\n",
       "    <tr>\n",
       "      <th>201080</th>\n",
       "      <td>stop acting like you own the place</td>\n",
       "      <td>1</td>\n",
       "      <td>0</td>\n",
       "      <td>1</td>\n",
       "      <td>0</td>\n",
       "    </tr>\n",
       "  </tbody>\n",
       "</table>\n",
       "<p>201081 rows × 5 columns</p>\n",
       "</div>"
      ],
      "text/plain": [
       "                                             comment_text  toxic  positive  \\\n",
       "0            COCKSUCKER BEFORE YOU PISS AROUND ON MY WORK      1         0   \n",
       "1       Hey... what is it..\\n@ | talk .\\nWhat is it......      1         0   \n",
       "2       Bye! \\n\\nDon't look, come or think of comming ...      1         0   \n",
       "3                FUCK YOUR FILTHY MOTHER IN THE ASS, DRY!      1         0   \n",
       "4       I'm Sorry \\n\\nI'm sorry I screwed around with ...      1         0   \n",
       "...                                                   ...    ...       ...   \n",
       "201076                                       you are shit      1         0   \n",
       "201077                               you are full of shit      1         0   \n",
       "201078                               you are full of crap      1         0   \n",
       "201079                                     you are mental      1         0   \n",
       "201080                 stop acting like you own the place      1         0   \n",
       "\n",
       "        negative  neutral  \n",
       "0              1        0  \n",
       "1              1        0  \n",
       "2              1        0  \n",
       "3              1        0  \n",
       "4              1        0  \n",
       "...          ...      ...  \n",
       "201076         1        0  \n",
       "201077         1        0  \n",
       "201078         1        0  \n",
       "201079         0        0  \n",
       "201080         1        0  \n",
       "\n",
       "[201081 rows x 5 columns]"
      ]
     },
     "execution_count": 3,
     "metadata": {},
     "output_type": "execute_result"
    }
   ],
   "source": [
    "df"
   ]
  },
  {
   "cell_type": "code",
   "execution_count": null,
   "id": "fd645b12-4dd5-4f5a-93cf-01bee0c23a1b",
   "metadata": {},
   "outputs": [],
   "source": []
  },
  {
   "cell_type": "code",
   "execution_count": 4,
   "id": "bf5c2739-6437-4d1b-a29b-5bd5d0b2a5f0",
   "metadata": {},
   "outputs": [],
   "source": [
    "LEMMATIZER= WordNetLemmatizer()"
   ]
  },
  {
   "cell_type": "markdown",
   "id": "07675f3a-4e16-49ef-883a-fa5b538b0537",
   "metadata": {},
   "source": [
    "# PREPROCESSING"
   ]
  },
  {
   "cell_type": "code",
   "execution_count": 5,
   "id": "7dd795d7-060f-4c12-8bb1-4de5540e6b26",
   "metadata": {},
   "outputs": [],
   "source": [
    "def Remove_Punctuation(text):\n",
    "    Punctuations=string.punctuation\n",
    "    return text.translate(str.maketrans('','',Punctuations))\n",
    "\n",
    "def Remove_UnWanted_Character(text):\n",
    "    text = re.sub(r\"http[s]?://\\S+|www\\.\\S+\", \"\", text)  # Remove URLs\n",
    "    text = re.sub(r\"<[^>]*>\", \"\", text)  # Remove HTML tags\n",
    "    text = re.sub(r\"\\b[A-Za-z0-9._%+-]+@[A-Za-z0-9.-]+\\.[A-Z|a-z]{2,}\\b\", \"\", text)# Remove email addresses\n",
    "    text = re.sub(\"you\", \"\", text) \n",
    "    text = re.sub(\"[0-9]\", \"\", text)  # Remove all digits\n",
    "    text = re.sub(r\"@\\w+\", \"\", text)  # Remove mentions (e.g., @username)\n",
    "    text = re.sub(r\"\\b(\\w)\\1+\\b\", \"\", text)  # Remove repeated single-character words (e.g., \"aaaaa\")\n",
    "    text = re.sub(r\"[^\\x00-\\x7f]+\", \" \", text)  # Remove non-ASCII characters\n",
    "    text = re.sub(rf\"\\b\\w{{{30},}}\\b\", \" \", text)  # Remove words longer than 30 characters\n",
    "    text = re.sub(r\"\\s+\", \" \", text).strip()  # Remove extra spaces and trim\n",
    "    return text\n",
    "    \n",
    "\n",
    "def LEMMATIZATION(text):\n",
    "    return \" \".join([LEMMATIZER.lemmatize(words,pos=\"a\") for words in text.split()])\n",
    "\n",
    "def Exapanding_Contractions(text):\n",
    "    return fix(text)\n",
    "\n"
   ]
  },
  {
   "cell_type": "code",
   "execution_count": 6,
   "id": "61c8ded5-e644-4e03-8424-316212816128",
   "metadata": {},
   "outputs": [],
   "source": [
    "df.dropna(inplace=True)\n",
    "df[df.columns[0]].dropna(inplace=True)\n",
    "df[df.columns[0]]=df[df.columns[0]].astype(str)\n",
    "df['Cleaned_Comment']=df[df.columns[0]].str.lower()\n",
    "df['Cleaned_Comment']=df['Cleaned_Comment'].apply(lambda x: Remove_Punctuation(x))\n",
    "df['Cleaned_Comment']=df[\"Cleaned_Comment\"].apply(lambda x: Remove_UnWanted_Character(x))\n",
    "df['Cleaned_Comment']=df['Cleaned_Comment'].apply(lambda x: Exapanding_Contractions(x))\n",
    "df['Cleaned_Comment']=df['Cleaned_Comment'].apply(lambda x: LEMMATIZATION(x))\n",
    "df.replace(\"nan\", pd.NA, inplace=True)\n",
    "df.dropna(inplace=True)"
   ]
  },
  {
   "cell_type": "code",
   "execution_count": null,
   "id": "f339303e-c89a-4b45-bcd8-d173f6351bef",
   "metadata": {},
   "outputs": [],
   "source": []
  },
  {
   "cell_type": "markdown",
   "id": "d338cd92-5b31-46d5-acda-eda9c58f7c23",
   "metadata": {},
   "source": [
    "# EXPLORATORY ANALYSIS"
   ]
  },
  {
   "cell_type": "code",
   "execution_count": 9,
   "id": "ec35fa46-b70d-4976-8f74-8648094e9a14",
   "metadata": {},
   "outputs": [
    {
     "data": {
      "image/png": "[encoded data removed]",
      "text/plain": [
       "<Figure size 1500x500 with 1 Axes>"
      ]
     },
     "metadata": {},
     "output_type": "display_data"
    }
   ],
   "source": [
    "toxic=len(df[df.toxic==1])\n",
    "Ntoxic=len(df[df.toxic==0])\n",
    "positive=len(df[df.positive==1])\n",
    "Npositive=len(df[df.positive==0])\n",
    "negative=len(df[df.negative==1])\n",
    "Nnegative=len(df[df.negative==0])\n",
    "neutral=len(df[df.neutral==1])\n",
    "Nneutral=len(df[df.neutral==0])\n",
    "\n",
    "categories = [\"Toxic\", \"Non-Toxic\", \"Positive\", \"Negative\",\"Neutral\"]\n",
    "counts = [toxic, Ntoxic, positive, negative, neutral,]\n",
    "\n",
    "plt.figure(figsize=(15, 5))\n",
    "sns.barplot(x=categories, y=counts, palette=\"magma\"\n",
    ")\n",
    "\n",
    "plt.xlabel(\"Categories\",fontsize=12)\n",
    "plt.ylabel(\"Count\", fontsize=12)\n",
    "plt.title(\"Labels Distribution\", fontsize=14)\n",
    "plt.savefig(\"LabelDistribution.png\")\n",
    "plt.show()\n"
   ]
  },
  {
   "cell_type": "markdown",
   "id": "12639574-0fb2-402a-bb15-49a6b5178dd2",
   "metadata": {},
   "source": [
    "![](toxic_words.png)\n",
    "![](positive_words.png)"
   ]
  },
  {
   "cell_type": "markdown",
   "id": "6eeed554-fcb1-4b76-9553-c301997e6910",
   "metadata": {},
   "source": [
    "![](negative_words.png)\n",
    "![](neutral_words.png)"
   ]
  },
  {
   "cell_type": "code",
   "execution_count": 9,
   "id": "568d2c70-ba13-42d0-83dd-1f6c6207e697",
   "metadata": {},
   "outputs": [
    {
     "data": {
      "image/png": "[encoded data removed]",
      "text/plain": [
       "<Figure size 640x480 with 2 Axes>"
      ]
     },
     "metadata": {},
     "output_type": "display_data"
    }
   ],
   "source": [
    "sns.heatmap(df[df.columns[1:5]].corr(),cmap='plasma',annot=True)\n",
    "plt.yticks(rotation=360)\n",
    "plt.savefig(\"heatmap.png\", dpi=300, bbox_inches='tight') \n",
    "plt.show()"
   ]
  },
  {
   "cell_type": "code",
   "execution_count": null,
   "id": "00f41136-8088-4ee6-97ab-22abccac32f5",
   "metadata": {},
   "outputs": [],
   "source": []
  },
  {
   "cell_type": "markdown",
   "id": "16e7cdca-59dc-469c-a64b-43e68714ef29",
   "metadata": {},
   "source": [
    "# FEATURE EXTRACTION - Fasttext "
   ]
  },
  {
   "cell_type": "markdown",
   "id": "bf84838f-3b2a-4b2d-a8ce-433a454ff408",
   "metadata": {},
   "source": [
    "![](fatsttext.png)"
   ]
  },
  {
   "cell_type": "code",
   "execution_count": 13,
   "id": "504786c3-8938-4212-8ff4-f2b11c3c89f4",
   "metadata": {},
   "outputs": [],
   "source": [
    "def Get_Embeddings(text):\n",
    "    words = text.split()\n",
    "    \n",
    "    if not words:\n",
    "        return np.zeros(Emodel.get_dimension())\n",
    "\n",
    "    word_embeddings = np.array([Emodel.get_word_vector(word) for word in words])\n",
    "\n",
    "    sentence_embedding = np.mean(word_embeddings, axis=0)\n",
    "\n",
    "    return sentence_embedding\n"
   ]
  },
  {
   "cell_type": "code",
   "execution_count": 15,
   "id": "60b99a16-e8de-4279-86f6-ba72889627fd",
   "metadata": {},
   "outputs": [
    {
     "ename": "ValueError",
     "evalue": "Embedding.bin cannot be opened for loading!",
     "output_type": "error",
     "traceback": [
      "\u001b[0;31m---------------------------------------------------------------------------\u001b[0m",
      "\u001b[0;31mValueError\u001b[0m                                Traceback (most recent call last)",
      "Cell \u001b[0;32mIn[15], line 2\u001b[0m\n\u001b[1;32m      1\u001b[0m \u001b[38;5;66;03m#model=fasttext.train_unsupervised(\"Comments#1.txt\",model=\"skipgram\",dim=300)\u001b[39;00m\n\u001b[0;32m----> 2\u001b[0m Emodel\u001b[38;5;241m=\u001b[39m\u001b[43mfasttext\u001b[49m\u001b[38;5;241;43m.\u001b[39;49m\u001b[43mload_model\u001b[49m\u001b[43m(\u001b[49m\u001b[38;5;124;43m\"\u001b[39;49m\u001b[38;5;124;43mEmbedding.bin\u001b[39;49m\u001b[38;5;124;43m\"\u001b[39;49m\u001b[43m)\u001b[49m\n",
      "File \u001b[0;32m~/anaconda3/envs/rapids-24.12/lib/python3.12/site-packages/fasttext/FastText.py:445\u001b[0m, in \u001b[0;36mload_model\u001b[0;34m(path)\u001b[0m\n\u001b[1;32m    443\u001b[0m \u001b[38;5;28;01mdef\u001b[39;00m\u001b[38;5;250m \u001b[39m\u001b[38;5;21mload_model\u001b[39m(path):\n\u001b[1;32m    444\u001b[0m \u001b[38;5;250m    \u001b[39m\u001b[38;5;124;03m\"\"\"Load a model given a filepath and return a model object.\"\"\"\u001b[39;00m\n\u001b[0;32m--> 445\u001b[0m     \u001b[38;5;28;01mreturn\u001b[39;00m \u001b[43m_FastText\u001b[49m\u001b[43m(\u001b[49m\u001b[43mmodel_path\u001b[49m\u001b[38;5;241;43m=\u001b[39;49m\u001b[43mpath\u001b[49m\u001b[43m)\u001b[49m\n",
      "File \u001b[0;32m~/anaconda3/envs/rapids-24.12/lib/python3.12/site-packages/fasttext/FastText.py:93\u001b[0m, in \u001b[0;36m_FastText.__init__\u001b[0;34m(self, model_path, args)\u001b[0m\n\u001b[1;32m     91\u001b[0m \u001b[38;5;28mself\u001b[39m\u001b[38;5;241m.\u001b[39mf \u001b[38;5;241m=\u001b[39m fasttext\u001b[38;5;241m.\u001b[39mfasttext()\n\u001b[1;32m     92\u001b[0m \u001b[38;5;28;01mif\u001b[39;00m model_path \u001b[38;5;129;01mis\u001b[39;00m \u001b[38;5;129;01mnot\u001b[39;00m \u001b[38;5;28;01mNone\u001b[39;00m:\n\u001b[0;32m---> 93\u001b[0m     \u001b[38;5;28;43mself\u001b[39;49m\u001b[38;5;241;43m.\u001b[39;49m\u001b[43mf\u001b[49m\u001b[38;5;241;43m.\u001b[39;49m\u001b[43mloadModel\u001b[49m\u001b[43m(\u001b[49m\u001b[43mmodel_path\u001b[49m\u001b[43m)\u001b[49m\n\u001b[1;32m     94\u001b[0m \u001b[38;5;28mself\u001b[39m\u001b[38;5;241m.\u001b[39m_words \u001b[38;5;241m=\u001b[39m \u001b[38;5;28;01mNone\u001b[39;00m\n\u001b[1;32m     95\u001b[0m \u001b[38;5;28mself\u001b[39m\u001b[38;5;241m.\u001b[39m_labels \u001b[38;5;241m=\u001b[39m \u001b[38;5;28;01mNone\u001b[39;00m\n",
      "\u001b[0;31mValueError\u001b[0m: Embedding.bin cannot be opened for loading!"
     ]
    }
   ],
   "source": [
    "#model=fasttext.train_unsupervised(\"Comments#1.txt\",model=\"skipgram\",dim=300)\n",
    "Emodel=fasttext.load_model(\"Embedding.bin\")"
   ]
  },
  {
   "cell_type": "code",
   "execution_count": 10,
   "id": "8d9fab45-6cc6-4ce5-bab3-22656faac82b",
   "metadata": {},
   "outputs": [],
   "source": [
    "x=df['Cleaned_Comment'].apply(lambda x:np.array(Get_Embeddings(x)))\n",
    "x = np.vstack(x.values)"
   ]
  },
  {
   "cell_type": "code",
   "execution_count": 11,
   "id": "89eb88a0-ace1-4d71-8cfc-60e880e5d875",
   "metadata": {},
   "outputs": [],
   "source": [
    "target=df[df.columns[1:5]]\n",
    "x_train,x_test,y_train,y_test=train_test_split(x,target, test_size=0.2, random_state=42 , shuffle=True)"
   ]
  },
  {
   "cell_type": "code",
   "execution_count": null,
   "id": "e33cd078-108d-49e6-b525-203d9bdbb322",
   "metadata": {},
   "outputs": [],
   "source": []
  },
  {
   "cell_type": "markdown",
   "id": "1e555f33-7a8c-4a49-952c-6753f3855b60",
   "metadata": {},
   "source": [
    "# Model Building & Prediction"
   ]
  },
  {
   "cell_type": "code",
   "execution_count": 17,
   "id": "eee909ff-e352-4e15-af46-e0e8f0350a64",
   "metadata": {},
   "outputs": [],
   "source": [
    "from xgboost import XGBClassifier\n",
    "from sklearn.linear_model import LogisticRegression\n",
    "from sklearn.ensemble import VotingClassifier\n",
    "from sklearn.multioutput import ClassifierChain\n",
    "from sklearn.metrics import accuracy_score,classification_report"
   ]
  },
  {
   "cell_type": "code",
   "execution_count": null,
   "id": "1a303b55-cb31-443a-8879-071594738164",
   "metadata": {},
   "outputs": [],
   "source": [
    "LR = LogisticRegression(\n",
    "    C=3.0,                \n",
    "    max_iter=500,         \n",
    "    penalty='elasticnet', \n",
    "    solver='saga',        \n",
    "    l1_ratio=0.5,         \n",
    "    n_jobs=-1,           \n",
    "    fit_intercept=True,   \n",
    "    class_weight='balanced',  \n",
    "    random_state=42      \n",
    ")\n",
    "\n",
    "XGB=XGBClassifier(n_estimators=1000, use_label_encoder=False, eval_metric='logloss',n_jobs=-1)\n",
    "\n",
    "Voting_Model= VotingClassifier(\n",
    "    estimators=[\n",
    "        ('Logistic Regression', LR),\n",
    "        ('XGBoost', XGB)\n",
    "    ],\n",
    "    voting='soft'  \n",
    ")"
   ]
  },
  {
   "cell_type": "markdown",
   "id": "c7e9be80-a55a-42ec-9a3b-884ce9af73da",
   "metadata": {},
   "source": [
    "### LOGISTIC REGRESSION"
   ]
  },
  {
   "cell_type": "markdown",
   "id": "443f3302-dcb7-4ae5-b9d1-900a7e50dd0f",
   "metadata": {},
   "source": [
    "![](LR.png)"
   ]
  },
  {
   "cell_type": "code",
   "execution_count": null,
   "id": "0b07d35b-1d0d-4ac9-9846-0d02aaa67f3b",
   "metadata": {},
   "outputs": [],
   "source": [
    "LR_model = ClassifierChain(base_estimator=LR, order='random', random_state=42)\n",
    "LR_model.fit(x_train,y_train)\n",
    "LR_pred=LR_model.predict(x_test)\n",
    "print()\n",
    "print(\"TRAINING : \", LR_model.score(x_train,y_train))\n",
    "print(\"TESTING : \", LR_model.score(x_test,y_test))\n",
    "print()\n",
    "print(\"LR ACCURACY : \", accuracy_score(y_test,LR_pred))"
   ]
  },
  {
   "cell_type": "code",
   "execution_count": null,
   "id": "d1190459-3256-4cbf-8384-0970b9854466",
   "metadata": {},
   "outputs": [],
   "source": []
  },
  {
   "cell_type": "markdown",
   "id": "717a2b9f-54dc-4800-b3cc-a583b0c29e30",
   "metadata": {},
   "source": [
    "##  XGBOOST CLASSIFIER"
   ]
  },
  {
   "cell_type": "markdown",
   "id": "c49d2755-2748-4508-9751-c5665bcd1cca",
   "metadata": {},
   "source": [
    "![XGBOOST CLASSIFIER](xgboost.png)"
   ]
  },
  {
   "cell_type": "code",
   "execution_count": null,
   "id": "59050b09-07a6-4710-b44c-1794b6d85071",
   "metadata": {},
   "outputs": [],
   "source": [
    "XGB_Model= ClassifierChain(base_estimator=LR, order='random', random_state=42)\n",
    "XGB_Model.fit(x_train,y_train)\n",
    "XGB_pred=XGB_Model.predict(x_test)\n",
    "print()\n",
    "print(\"TRAINING : \", XGB_Model.score(x_train,y_train))\n",
    "print(\"TESTING : \", XGB_Model.score(x_test,y_test))\n",
    "print()\n",
    "print(\"LR ACCURACY : \", accuracy_score(y_test,XGB_pred))\n",
    "print()\n"
   ]
  },
  {
   "cell_type": "code",
   "execution_count": null,
   "id": "4f84f38b-0954-4d58-95db-186e7da9cb28",
   "metadata": {},
   "outputs": [],
   "source": []
  },
  {
   "cell_type": "markdown",
   "id": "cf022718-7e13-4a95-90f3-1775a2982299",
   "metadata": {},
   "source": [
    "## VOTING CLASSIFIER"
   ]
  },
  {
   "cell_type": "markdown",
   "id": "c45ce219-c6ae-458c-93df-43b5d3fa5f28",
   "metadata": {
    "jp-MarkdownHeadingCollapsed": true
   },
   "source": [
    "![](voting.png)"
   ]
  },
  {
   "cell_type": "code",
   "execution_count": null,
   "id": "3ca74fb9-464d-4e0f-a1fd-5a565dfc2c9e",
   "metadata": {},
   "outputs": [],
   "source": [
    "voting_clf=ClassifierChain(base_estimator=Voting_Model, order='random', random_state=42)\n",
    "voting_clf.fit(x_train, y_train)\n",
    "y_pred1 = voting_clf.predict(x_test)\n",
    "print(\"Accuracy:\", accuracy_score(y_test, y_pred1))\n",
    "print(\"Classification Report:\\n\", classification_report(y_test, y_pred1))\n"
   ]
  },
  {
   "cell_type": "code",
   "execution_count": null,
   "id": "53accc89-6ec6-4b9a-9120-02a8c8c5b82f",
   "metadata": {},
   "outputs": [],
   "source": []
  },
  {
   "cell_type": "code",
   "execution_count": null,
   "id": "497f90d2-5070-462a-95a4-4c61e9c89313",
   "metadata": {},
   "outputs": [],
   "source": []
  },
  {
   "cell_type": "markdown",
   "id": "fb8b2a5f-5ff6-4ad0-bde7-1f57d4ba72c7",
   "metadata": {},
   "source": [
    "# EVALUATION & FINDINGS "
   ]
  },
  {
   "cell_type": "code",
   "execution_count": 51,
   "id": "9285047f-8e85-4ded-9eab-546280fa6b40",
   "metadata": {},
   "outputs": [],
   "source": [
    "with open(\"FusionBoostModelX.pkl\", \"rb\") as f:\n",
    "    FusionBoost = dill.load(f)\n",
    "    \n",
    "def Predictions(x):\n",
    "    pred=(FusionBoost.predict(x) > 0.5).astype(int)[0]\n",
    "    return pred[0],pred[1],pred[2],pred[3]\n",
    "    \n",
    "\n",
    "def Eval():\n",
    "    edf=df.sample(20000).copy()\n",
    "    edf.dropna(inplace=True)\n",
    "    sampled_indices = edf.index  \n",
    "    target = df.loc[sampled_indices,['toxic', 'positive', 'negative', 'neutral']] \n",
    "    edf[edf.columns[0]].dropna(inplace=True)\n",
    "    edf[edf.columns[0]]=edf[edf.columns[0]].astype(str)\n",
    "    edf['Cleaned_Comment']=edf[df.columns[0]].str.lower()\n",
    "    edf['Cleaned_Comment']=edf['Cleaned_Comment'].apply(lambda x: Remove_Punctuation(x))\n",
    "    edf['Cleaned_Comment']=edf[\"Cleaned_Comment\"].apply(lambda x: Remove_UnWanted_Character(x))\n",
    "    edf['Cleaned_Comment']=edf['Cleaned_Comment'].apply(lambda x: Exapanding_Contractions(x))\n",
    "    edf['Cleaned_Comment']=edf['Cleaned_Comment'].apply(lambda x: LEMMATIZATION(x))\n",
    "    edf.replace(\"nan\", pd.NA, inplace=True)\n",
    "    pred= edf['Cleaned_Comment'].apply(lambda x: pd.Series(Predictions(x)))\n",
    "    pred.columns = ['toxic', 'positive', 'negative', 'neutral']\n",
    "    print()\n",
    "    print(f\"ACCURACY :  {accuracy_score(target,pred)*100}%\")\n",
    "    print(\"Classification Report : \")\n",
    "    print(classification_report(target,pred))\n",
    "    print()\n",
    "    for i, label in enumerate(target.columns):\n",
    "        cm=confusion_matrix(target.iloc[:, i], pred.iloc[:, i])\n",
    "        cmDisp=ConfusionMatrixDisplay(cm)\n",
    "        cmDisp.plot()\n",
    "    print()"
   ]
  },
  {
   "cell_type": "code",
   "execution_count": null,
   "id": "655d76a5-d1f4-4ed3-bf3b-19e9d4e65cb9",
   "metadata": {},
   "outputs": [],
   "source": [
    "Eval()"
   ]
  },
  {
   "cell_type": "code",
   "execution_count": null,
   "id": "dfc07b0a-a693-4a3b-a5dc-4856eca848f2",
   "metadata": {},
   "outputs": [],
   "source": []
  },
  {
   "cell_type": "markdown",
   "id": "7cf1c78e-9596-44fb-8189-ab5c63ca77de",
   "metadata": {},
   "source": [
    "### WORD REPRSENTATION\n",
    "![](Experiment_fasttext.jpeg)"
   ]
  },
  {
   "cell_type": "code",
   "execution_count": 22,
   "id": "6b6a5fca-ce35-4133-b104-fc0fdada711f",
   "metadata": {},
   "outputs": [
    {
     "data": {
      "text/plain": [
       "[(0.8556137681007385, 'humane'),\n",
       " (0.838182270526886, 'inhuman'),\n",
       " (0.8330483436584473, 'huma'),\n",
       " (0.822429895401001, 'nonhuman'),\n",
       " (0.747660219669342, 'subhuman'),\n",
       " (0.6631761193275452, 'humanity'),\n",
       " (0.6521159410476685, 'inhumane'),\n",
       " (0.6482937335968018, 'subhumans'),\n",
       " (0.6232922077178955, 'humanrights'),\n",
       " (0.600135326385498, 'humanitarian')]"
      ]
     },
     "execution_count": 22,
     "metadata": {},
     "output_type": "execute_result"
    }
   ],
   "source": [
    "Emodel.get_nearest_neighbors(\"human\")"
   ]
  },
  {
   "cell_type": "code",
   "execution_count": null,
   "id": "f9e93403-585b-4aab-907b-dd9f00636882",
   "metadata": {},
   "outputs": [],
   "source": []
  },
  {
   "cell_type": "code",
   "execution_count": 12,
   "id": "458d1d0b-92b1-478c-871d-b03e407a1ffa",
   "metadata": {},
   "outputs": [
    {
     "name": "stdout",
     "output_type": "stream",
     "text": [
      "\n",
      "\n",
      "BEFORE :  i am better at this\n",
      "\n",
      "AFTER :  i am good at this\n",
      "\n",
      "\n"
     ]
    }
   ],
   "source": [
    "print()\n",
    "print()\n",
    "text=\"i am better at this\" \n",
    "print(\"BEFORE : \",text)\n",
    "print()\n",
    "text=LEMMATIZATION(text)\n",
    "print(\"AFTER : \",text)\n",
    "print()\n",
    "print()"
   ]
  },
  {
   "cell_type": "code",
   "execution_count": null,
   "id": "f1f31f1d-f4b5-44ea-9f26-7ed1378495f6",
   "metadata": {},
   "outputs": [],
   "source": []
  },
  {
   "cell_type": "code",
   "execution_count": null,
   "id": "f36ea709-d7e5-4c5f-8017-8a805c4c4bd2",
   "metadata": {},
   "outputs": [],
   "source": []
  },
  {
   "cell_type": "code",
   "execution_count": null,
   "id": "14fc0f56-dcf4-42f7-8f22-25bb1eef92f0",
   "metadata": {},
   "outputs": [],
   "source": []
  },
  {
   "cell_type": "code",
   "execution_count": null,
   "id": "263f97ac-dd5c-49b9-aea9-2b83d9bbecf0",
   "metadata": {},
   "outputs": [],
   "source": []
  }
 ],
 "metadata": {
  "kernelspec": {
   "display_name": "Python 3 (ipykernel)",
   "language": "python",
   "name": "python3"
  },
  "language_info": {
   "codemirror_mode": {
    "name": "ipython",
    "version": 3
   },
   "file_extension": ".py",
   "mimetype": "text/x-python",
   "name": "python",
   "nbconvert_exporter": "python",
   "pygments_lexer": "ipython3",
   "version": "3.12.8"
  }
 },
 "nbformat": 4,
 "nbformat_minor": 5
}
