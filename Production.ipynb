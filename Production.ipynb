{
 "cells": [
  {
   "cell_type": "code",
   "execution_count": 1,
   "id": "21cbe13c-bc4d-48e0-9184-c32e049f118c",
   "metadata": {},
   "outputs": [],
   "source": [
    "import pandas as pd\n",
    "import numpy as np\n",
    "import string\n",
    "import re\n",
    "import torch\n",
    "import dill\n",
    "import warnings\n",
    "warnings.filterwarnings(\"ignore\")\n",
    "import fasttext\n",
    "from contractions import fix\n",
    "from nltk.stem import WordNetLemmatizer\n"
   ]
  },
  {
   "cell_type": "code",
   "execution_count": 2,
   "id": "c911c3d5-dda2-4c97-8100-55a44e1ce742",
   "metadata": {},
   "outputs": [],
   "source": [
    "LEMMATIZER= WordNetLemmatizer()"
   ]
  },
  {
   "cell_type": "code",
   "execution_count": 3,
   "id": "a21eaa90-90bb-4735-9ed1-db0bc00770b6",
   "metadata": {},
   "outputs": [],
   "source": [
    "def Remove_Punctuation(text):\n",
    "    Punctuations=string.punctuation\n",
    "    return text.translate(str.maketrans('','',Punctuations))\n",
    "\n",
    "def Remove_UnWanted_Character(text):\n",
    "    text = re.sub(r\"http[s]?://\\S+|www\\.\\S+\", \"\", text)  # Remove URLs\n",
    "    text = re.sub(r\"<[^>]*>\", \"\", text)  # Remove HTML tags\n",
    "    text = re.sub(r\"\\b[A-Za-z0-9._%+-]+@[A-Za-z0-9.-]+\\.[A-Z|a-z]{2,}\\b\", \"\", text)# Remove email addresses\n",
    "    text = re.sub(\"you\", \"\", text) \n",
    "    text = re.sub(\"[0-9]\", \"\", text)  # Remove all digits\n",
    "    text = re.sub(r\"@\\w+\", \"\", text)  # Remove mentions (e.g., @username)\n",
    "    text = re.sub(r\"\\b(\\w)\\1+\\b\", \"\", text)  # Remove repeated single-character words (e.g., \"aaaaa\")\n",
    "    text = re.sub(r\"[^\\x00-\\x7f]+\", \" \", text)  # Remove non-ASCII characters\n",
    "    text = re.sub(rf\"\\b\\w{{{30},}}\\b\", \" \", text)  # Remove words longer than 30 characters\n",
    "    text = re.sub(r\"\\s+\", \" \", text).strip()  # Remove extra spaces and trim\n",
    "    return text\n",
    "    \n",
    "\n",
    "def LEMMATIZATION(text):\n",
    "    return \" \".join([LEMMATIZER.lemmatize(words) for words in text.split()])\n",
    "\n",
    "def Exapanding_Contractions(text):\n",
    "    return fix(text)\n",
    "\n"
   ]
  },
  {
   "cell_type": "code",
   "execution_count": 4,
   "id": "24520310-245d-4e69-af4d-c5bfc84010f4",
   "metadata": {},
   "outputs": [
    {
     "name": "stderr",
     "output_type": "stream",
     "text": [
      "2025-04-08 23:10:13.166115: I tensorflow/core/util/port.cc:153] oneDNN custom operations are on. You may see slightly different numerical results due to floating-point round-off errors from different computation orders. To turn them off, set the environment variable `TF_ENABLE_ONEDNN_OPTS=0`.\n",
      "2025-04-08 23:10:13.178631: E external/local_xla/xla/stream_executor/cuda/cuda_fft.cc:485] Unable to register cuFFT factory: Attempting to register factory for plugin cuFFT when one has already been registered\n",
      "2025-04-08 23:10:13.194029: E external/local_xla/xla/stream_executor/cuda/cuda_dnn.cc:8454] Unable to register cuDNN factory: Attempting to register factory for plugin cuDNN when one has already been registered\n",
      "2025-04-08 23:10:13.198740: E external/local_xla/xla/stream_executor/cuda/cuda_blas.cc:1452] Unable to register cuBLAS factory: Attempting to register factory for plugin cuBLAS when one has already been registered\n",
      "2025-04-08 23:10:13.210274: I tensorflow/core/platform/cpu_feature_guard.cc:210] This TensorFlow binary is optimized to use available CPU instructions in performance-critical operations.\n",
      "To enable the following instructions: SSE4.1 SSE4.2 AVX AVX2 AVX512F AVX512_VNNI FMA, in other operations, rebuild TensorFlow with the appropriate compiler flags.\n"
     ]
    },
    {
     "name": "stdout",
     "output_type": "stream",
     "text": [
      " * Serving Flask app '__main__'\n",
      " * Debug mode: off\n"
     ]
    },
    {
     "name": "stderr",
     "output_type": "stream",
     "text": [
      "\u001b[31m\u001b[1mWARNING: This is a development server. Do not use it in a production deployment. Use a production WSGI server instead.\u001b[0m\n",
      " * Running on http://127.0.0.1:5000\n",
      "\u001b[33mPress CTRL+C to quit\u001b[0m\n",
      "127.0.0.1 - - [08/Apr/2025 23:11:12] \"GET / HTTP/1.1\" 200 -\n",
      "127.0.0.1 - - [08/Apr/2025 23:11:13] \"\u001b[36mGET /static/img/sudarshan.jpg HTTP/1.1\u001b[0m\" 304 -\n",
      "127.0.0.1 - - [08/Apr/2025 23:11:13] \"\u001b[36mGET /static/img/shubham.jpg HTTP/1.1\u001b[0m\" 304 -\n",
      "127.0.0.1 - - [08/Apr/2025 23:11:13] \"\u001b[36mGET /static/img/mohit.jpg HTTP/1.1\u001b[0m\" 304 -\n",
      "127.0.0.1 - - [08/Apr/2025 23:11:13] \"\u001b[36mGET /static/img/bg1.png HTTP/1.1\u001b[0m\" 304 -\n",
      "127.0.0.1 - - [08/Apr/2025 23:11:13] \"GET /static/img/neutral.svg HTTP/1.1\" 200 -\n",
      "127.0.0.1 - - [08/Apr/2025 23:11:13] \"GET /static/img/angry.svg HTTP/1.1\" 200 -\n",
      "127.0.0.1 - - [08/Apr/2025 23:11:13] \"\u001b[36mGET /static/img/happy.svg HTTP/1.1\u001b[0m\" 304 -\n",
      "127.0.0.1 - - [08/Apr/2025 23:11:13] \"\u001b[36mGET /static/img/bachelor-of-engineering-in-computer-engineering-in-tanzania.jpg HTTP/1.1\u001b[0m\" 304 -\n",
      "127.0.0.1 - - [08/Apr/2025 23:11:21] \"POST /predict HTTP/1.1\" 200 -\n",
      "127.0.0.1 - - [08/Apr/2025 23:11:48] \"POST /predict HTTP/1.1\" 200 -\n"
     ]
    }
   ],
   "source": [
    "import numpy as np  \n",
    "import nest_asyncio\n",
    "from flask import Flask, request, render_template, jsonify\n",
    "\n",
    "\n",
    "with open(\"FusionBoostModelX.pkl\", \"rb\") as f:\n",
    "    FusionBoost = dill.load(f)\n",
    "\n",
    "nest_asyncio.apply()\n",
    "\n",
    "app = Flask(__name__)\n",
    "\n",
    "@app.route('/')\n",
    "def home():\n",
    "    return render_template('index.html')\n",
    "\n",
    "@app.route('/predict', methods=['POST'])\n",
    "def predict():\n",
    "    try:\n",
    "        data = request.get_json()  \n",
    "        text = data.get('text', '').strip()  \n",
    "\n",
    "        if text:\n",
    "            result = [0, 0]\n",
    "            pred = FusionBoost.predict(text)[0]  \n",
    "            result[0] = float(pred[0])\n",
    "            result[1] = int(np.argmax(pred[1:]))\n",
    "            return jsonify({'prediction': result})\n",
    "        else:\n",
    "            return jsonify({'error': 'No text provided.'}), 400\n",
    "    except Exception as e:\n",
    "        print(\"Error:\", str(e))\n",
    "        return jsonify({'error': str(e)}), 500\n",
    "\n",
    "if __name__ == '__main__':\n",
    "    app.run(port=5000, debug=False, threaded=True)\n"
   ]
  },
  {
   "cell_type": "code",
   "execution_count": null,
   "id": "5b0a9a47-723b-4cde-a123-2db6442fe4fd",
   "metadata": {},
   "outputs": [],
   "source": []
  },
  {
   "cell_type": "code",
   "execution_count": 5,
   "id": "b086d6e8-69ae-4606-9f3d-63ddcb7257ff",
   "metadata": {},
   "outputs": [
    {
     "name": "stdout",
     "output_type": "stream",
     "text": [
      "Note: you may need to restart the kernel to use updated packages.\n"
     ]
    }
   ],
   "source": [
    "pip freeze > requirements.txt\n"
   ]
  },
  {
   "cell_type": "code",
   "execution_count": null,
   "id": "cb4235c0-6a36-4ccf-8d5c-2135f4580c04",
   "metadata": {},
   "outputs": [],
   "source": []
  },
  {
   "cell_type": "code",
   "execution_count": null,
   "id": "c4aad2e5-2f9a-4a59-8ab7-9434a027fc22",
   "metadata": {},
   "outputs": [],
   "source": []
  }
 ],
 "metadata": {
  "kernelspec": {
   "display_name": "Python 3 (ipykernel)",
   "language": "python",
   "name": "python3"
  },
  "language_info": {
   "codemirror_mode": {
    "name": "ipython",
    "version": 3
   },
   "file_extension": ".py",
   "mimetype": "text/x-python",
   "name": "python",
   "nbconvert_exporter": "python",
   "pygments_lexer": "ipython3",
   "version": "3.12.8"
  }
 },
 "nbformat": 4,
 "nbformat_minor": 5
}
